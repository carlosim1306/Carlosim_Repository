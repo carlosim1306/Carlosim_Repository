{
 "cells": [
  {
   "cell_type": "code",
   "execution_count": 1,
   "id": "e3bf4542",
   "metadata": {},
   "outputs": [
    {
     "name": "stdout",
     "output_type": "stream",
     "text": [
      "Requirement already satisfied: scikit-learn in c:\\users\\carlosim\\miniconda3\\lib\\site-packages (1.4.1.post1)\n",
      "Requirement already satisfied: numpy<2.0,>=1.19.5 in c:\\users\\carlosim\\miniconda3\\lib\\site-packages (from scikit-learn) (1.23.5)\n",
      "Requirement already satisfied: threadpoolctl>=2.0.0 in c:\\users\\carlosim\\miniconda3\\lib\\site-packages (from scikit-learn) (3.3.0)\n",
      "Requirement already satisfied: joblib>=1.2.0 in c:\\users\\carlosim\\miniconda3\\lib\\site-packages (from scikit-learn) (1.3.2)\n",
      "Requirement already satisfied: scipy>=1.6.0 in c:\\users\\carlosim\\miniconda3\\lib\\site-packages (from scikit-learn) (1.11.3)\n",
      "Requirement already satisfied: seaborn in c:\\users\\carlosim\\miniconda3\\lib\\site-packages (0.13.2)\n",
      "Requirement already satisfied: numpy!=1.24.0,>=1.20 in c:\\users\\carlosim\\miniconda3\\lib\\site-packages (from seaborn) (1.23.5)\n",
      "Requirement already satisfied: pandas>=1.2 in c:\\users\\carlosim\\miniconda3\\lib\\site-packages (from seaborn) (1.5.3)\n",
      "Requirement already satisfied: matplotlib!=3.6.1,>=3.4 in c:\\users\\carlosim\\miniconda3\\lib\\site-packages (from seaborn) (3.6.2)\n",
      "Requirement already satisfied: fonttools>=4.22.0 in c:\\users\\carlosim\\miniconda3\\lib\\site-packages (from matplotlib!=3.6.1,>=3.4->seaborn) (4.25.0)\n",
      "Requirement already satisfied: packaging>=20.0 in c:\\users\\carlosim\\miniconda3\\lib\\site-packages (from matplotlib!=3.6.1,>=3.4->seaborn) (22.0)\n",
      "Requirement already satisfied: cycler>=0.10 in c:\\users\\carlosim\\miniconda3\\lib\\site-packages (from matplotlib!=3.6.1,>=3.4->seaborn) (0.11.0)\n",
      "Requirement already satisfied: kiwisolver>=1.0.1 in c:\\users\\carlosim\\miniconda3\\lib\\site-packages (from matplotlib!=3.6.1,>=3.4->seaborn) (1.4.4)\n",
      "Requirement already satisfied: pyparsing>=2.2.1 in c:\\users\\carlosim\\miniconda3\\lib\\site-packages (from matplotlib!=3.6.1,>=3.4->seaborn) (3.0.9)\n",
      "Requirement already satisfied: pillow>=6.2.0 in c:\\users\\carlosim\\miniconda3\\lib\\site-packages (from matplotlib!=3.6.1,>=3.4->seaborn) (9.3.0)\n",
      "Requirement already satisfied: python-dateutil>=2.7 in c:\\users\\carlosim\\miniconda3\\lib\\site-packages (from matplotlib!=3.6.1,>=3.4->seaborn) (2.8.2)\n",
      "Requirement already satisfied: contourpy>=1.0.1 in c:\\users\\carlosim\\miniconda3\\lib\\site-packages (from matplotlib!=3.6.1,>=3.4->seaborn) (1.0.5)\n",
      "Requirement already satisfied: pytz>=2020.1 in c:\\users\\carlosim\\miniconda3\\lib\\site-packages (from pandas>=1.2->seaborn) (2022.7)\n",
      "Requirement already satisfied: six>=1.5 in c:\\users\\carlosim\\miniconda3\\lib\\site-packages (from python-dateutil>=2.7->matplotlib!=3.6.1,>=3.4->seaborn) (1.16.0)\n",
      "Requirement already satisfied: geopandas in c:\\users\\carlosim\\miniconda3\\lib\\site-packages (0.14.3)\n",
      "Requirement already satisfied: matplotlib in c:\\users\\carlosim\\miniconda3\\lib\\site-packages (3.6.2)\n",
      "Requirement already satisfied: pandas>=1.4.0 in c:\\users\\carlosim\\miniconda3\\lib\\site-packages (from geopandas) (1.5.3)\n",
      "Requirement already satisfied: pyproj>=3.3.0 in c:\\users\\carlosim\\miniconda3\\lib\\site-packages (from geopandas) (3.6.1)\n",
      "Requirement already satisfied: shapely>=1.8.0 in c:\\users\\carlosim\\miniconda3\\lib\\site-packages (from geopandas) (2.0.3)\n",
      "Requirement already satisfied: packaging in c:\\users\\carlosim\\miniconda3\\lib\\site-packages (from geopandas) (22.0)\n",
      "Requirement already satisfied: fiona>=1.8.21 in c:\\users\\carlosim\\miniconda3\\lib\\site-packages (from geopandas) (1.9.5)\n",
      "Requirement already satisfied: contourpy>=1.0.1 in c:\\users\\carlosim\\miniconda3\\lib\\site-packages (from matplotlib) (1.0.5)\n",
      "Requirement already satisfied: numpy>=1.19 in c:\\users\\carlosim\\miniconda3\\lib\\site-packages (from matplotlib) (1.23.5)\n",
      "Requirement already satisfied: pyparsing>=2.2.1 in c:\\users\\carlosim\\miniconda3\\lib\\site-packages (from matplotlib) (3.0.9)\n",
      "Requirement already satisfied: cycler>=0.10 in c:\\users\\carlosim\\miniconda3\\lib\\site-packages (from matplotlib) (0.11.0)\n",
      "Requirement already satisfied: python-dateutil>=2.7 in c:\\users\\carlosim\\miniconda3\\lib\\site-packages (from matplotlib) (2.8.2)\n",
      "Requirement already satisfied: pillow>=6.2.0 in c:\\users\\carlosim\\miniconda3\\lib\\site-packages (from matplotlib) (9.3.0)\n",
      "Requirement already satisfied: fonttools>=4.22.0 in c:\\users\\carlosim\\miniconda3\\lib\\site-packages (from matplotlib) (4.25.0)\n",
      "Requirement already satisfied: kiwisolver>=1.0.1 in c:\\users\\carlosim\\miniconda3\\lib\\site-packages (from matplotlib) (1.4.4)\n",
      "Requirement already satisfied: attrs>=19.2.0 in c:\\users\\carlosim\\miniconda3\\lib\\site-packages (from fiona>=1.8.21->geopandas) (22.1.0)\n",
      "Requirement already satisfied: certifi in c:\\users\\carlosim\\miniconda3\\lib\\site-packages (from fiona>=1.8.21->geopandas) (2023.7.22)\n",
      "Requirement already satisfied: setuptools in c:\\users\\carlosim\\miniconda3\\lib\\site-packages (from fiona>=1.8.21->geopandas) (65.6.3)\n",
      "Requirement already satisfied: cligj>=0.5 in c:\\users\\carlosim\\miniconda3\\lib\\site-packages (from fiona>=1.8.21->geopandas) (0.7.2)\n",
      "Requirement already satisfied: click-plugins>=1.0 in c:\\users\\carlosim\\miniconda3\\lib\\site-packages (from fiona>=1.8.21->geopandas) (1.1.1)\n",
      "Requirement already satisfied: six in c:\\users\\carlosim\\miniconda3\\lib\\site-packages (from fiona>=1.8.21->geopandas) (1.16.0)\n",
      "Requirement already satisfied: click~=8.0 in c:\\users\\carlosim\\miniconda3\\lib\\site-packages (from fiona>=1.8.21->geopandas) (8.1.7)\n",
      "Requirement already satisfied: pytz>=2020.1 in c:\\users\\carlosim\\miniconda3\\lib\\site-packages (from pandas>=1.4.0->geopandas) (2022.7)\n",
      "Requirement already satisfied: colorama in c:\\users\\carlosim\\miniconda3\\lib\\site-packages (from click~=8.0->fiona>=1.8.21->geopandas) (0.4.6)\n"
     ]
    }
   ],
   "source": [
    "%matplotlib inline\n",
    "!pip install scikit-learn\n",
    "!pip install seaborn\n",
    "!pip install geopandas matplotlib\n",
    "\n",
    "import numpy as np\n",
    "import pandas as pd\n",
    "import seaborn as sns\n",
    "import matplotlib.pyplot as plt\n",
    "import matplotlib.cm as cm\n",
    "from glob import glob\n",
    "import geopandas as gpd\n",
    "import re\n",
    "\n",
    "from scipy.spatial import distance_matrix\n",
    "from sklearn.preprocessing import MinMaxScaler\n",
    "\n",
    "# Para no mostrar 'Future Warnings' producto de que algunos paquetes aún\n",
    "# trabajan con versiones no actualizadas de otros paquetes\n",
    "import warnings\n",
    "warnings.simplefilter(action='ignore', category=FutureWarning)"
   ]
  },
  {
   "cell_type": "code",
   "execution_count": 2,
   "id": "b5a326a5",
   "metadata": {},
   "outputs": [
    {
     "name": "stdout",
     "output_type": "stream",
     "text": [
      "<class 'pandas.core.frame.DataFrame'>\n",
      "RangeIndex: 6373 entries, 0 to 6372\n",
      "Data columns (total 8 columns):\n",
      " #   Column           Non-Null Count  Dtype  \n",
      "---  ------           --------------  -----  \n",
      " 0   Sale Date        6373 non-null   object \n",
      " 1   Item Name        6373 non-null   object \n",
      " 2   Buyer            5559 non-null   object \n",
      " 3   Quantity         6373 non-null   int64  \n",
      " 4   Price            6373 non-null   float64\n",
      " 5   Discount Amount  6373 non-null   float64\n",
      " 6   Ship City        6373 non-null   object \n",
      " 7   Ship Country     6373 non-null   object \n",
      "dtypes: float64(2), int64(1), object(5)\n",
      "memory usage: 398.4+ KB\n"
     ]
    }
   ],
   "source": [
    "DATOS_generales = pd.read_csv('./datos_proyecto_productos_filtrados.csv')\n",
    "DATOS_generales['Item Name'] = DATOS_generales['Item Name'].astype(str)\n",
    "DATOS_generales.info()"
   ]
  },
  {
   "cell_type": "code",
   "execution_count": 3,
   "id": "f78705e1",
   "metadata": {},
   "outputs": [],
   "source": [
    "def extraer_palabras_clave(texto):\n",
    "    palabras_clave = re.findall(r'\\b\\w{4,}\\s+\\w{4,}\\b', texto)\n",
    "    return palabras_clave"
   ]
  },
  {
   "cell_type": "code",
   "execution_count": 4,
   "id": "a37db342",
   "metadata": {},
   "outputs": [],
   "source": [
    "DATOS_generales['Palabras_clave'] = DATOS_generales['Item Name'].apply(extraer_palabras_clave)"
   ]
  },
  {
   "cell_type": "code",
   "execution_count": 5,
   "id": "ccc99cb7",
   "metadata": {},
   "outputs": [
    {
     "data": {
      "text/plain": [
       "0                      [Niall Horan, Holographic Sticker]\n",
       "1                      [Niall Horan, Holographic Sticker]\n",
       "2                      [Niall Horan, Holographic Sticker]\n",
       "3                      [Niall Horan, Holographic Sticker]\n",
       "4                      [Niall Horan, Holographic Sticker]\n",
       "                              ...                        \n",
       "6368                                        [Louis Tommo]\n",
       "6369                                    [louis tomlinson]\n",
       "6370    [Sunset Curve, Holographic Sticker, Sunset Curve]\n",
       "6371    [Sunset Curve, Holographic Sticker, Sunset Curve]\n",
       "6372    [Louis tomlinson, elastics bracelets, away fro...\n",
       "Name: Palabras_clave, Length: 6373, dtype: object"
      ]
     },
     "execution_count": 5,
     "metadata": {},
     "output_type": "execute_result"
    }
   ],
   "source": [
    "DATOS_generales['Palabras_clave']"
   ]
  },
  {
   "cell_type": "code",
   "execution_count": 6,
   "id": "abe8d73b",
   "metadata": {},
   "outputs": [
    {
     "name": "stdout",
     "output_type": "stream",
     "text": [
      "104 {'tour 2023', 'efecto desteñido', 'Louis smiley', '1989 taylor', 'Eddie Munson', 'gets ugly', 'niall horan', 'SALE Harry', 'lovers 2022', 'stainless steel', 'Louis afhf', 'Larry stylinson', 'Styles Fine', 'Harry styles', 'Niall Horan', 'lovers Niall', 'night talking', 'shawn mendes', 'Treat People', 'Styles jewelery', 'Madrid España', 'Niall horan', 'bracelets inspired', 'desteñido verde', 'Spain magazine', 'Taylors Version', 'Styles Barcelona', 'rosalia motomami', 'Justin bieber', 'Photocards holders', 'signed autographed', 'eras tour', 'Louis tomlison', 'years anniversary', 'Tour 2023', 'louis tommo', 'would like', 'Madrid Spain', 'elastics bracelets', 'girl almithy', 'Louis tomlinson', 'Maneskin cloth', 'summer without', 'Zayn Malik', 'Royal Albert', 'LEER DESCRIPCIÓN', 'Harry Styles', 'Barcelona España', 'Listening Album', 'summer harry', 'Mystery Harry', 'Olivia Rodrigo', 'Taylor swift', 'Erfreuliche benutzerdefinierte', 'Heaven stainless', 'love louis', 'harry styles', 'Heaven Niall', 'Harrys Haus', 'Taylor Swift', 'Tour 2022', 'tour Madrid', 'olivia rodrigo', 'louis tomlinson', 'silberfarbener Schmuck', 'taylor swift', 'bt21 bts21', 'Styles Lanyard', 'FREE niall', 'Eddie munson', 'Personalized birthday', 'DESCRIPTION Niall', 'stray kids', 'Satellite Harry', 'bote vacío', 'Harrychella 2022', 'Louis Tommo', 'Enrique Estilos', 'Harry Style', 'Barcelona Spain', 'festival españa', 'Styles Madrid', 'Liam Payne', 'horan Heaven', 'future louis', 'tour elastics', 'eurovision 2021', 'Barcelona Love', 'Hello lovers', 'Lovers 2022', 'Niall heaven', 'good night', 'sonriente Louis', 'Italia Eurovisión', 'Harry House', 'Italy Eurovision', 'taylor switf', 'tour Barcelona', 'Louis Tomlinson', 'Hello Lovers', 'benutzerdefinierte Einkaufstasche', 'louis tomlison', 'Song single', 'Versión Taylors'}\n"
     ]
    }
   ],
   "source": [
    "palabras_filtro = ['camiseta','collar','holographic','tela', 'bundle','pack','tote','colgante','custom','cumpleaños', 'merch'\n",
    "                  ,'with', 'from', 'best', 'pegatina', 'haces', 'pulsera', 'order', 'acrylic', 'logo', 'photo', 'eres',\n",
    "                   'tattoo', 'estuche', 'banderas', 'transparent', 'elastic', 'color', 'random', 'line','sunset', 'rubber',\n",
    "                  'this', 'weather', 'personalizado', 'bolsa', 'chulapas', 'keychain', 'necklace', 'lisence', 'sticker',\n",
    "                   'mascarilla', 'equipaje','hand', 'llavero', 'bracelet','LEER', 'toiletry', 'ring', 'costume', 'young',\n",
    "                  'bisutería', 'DESCRIPTION', 'personalizada', 'terciopelo', 'restocking', 'botella', 'para', 'presale',\n",
    "                  'effect', 'simple', 'Song', 'riñonera', 'ganadores', 'laptop', 'days', 'colores', 'chromatica', 'shirt',\n",
    "                  'holder', 'bottle', 'Personalized', 'face', 'acero', 'jewelry', 'colored', 'mess']\n",
    "set_palabras_clave = set()\n",
    "for i in DATOS_generales['Palabras_clave']:\n",
    "    for j in i:\n",
    "        palabra1, palabra2 = j.split()\n",
    "        if palabra1.lower() not in palabras_filtro and palabra2.lower() not in palabras_filtro:\n",
    "            set_palabras_clave.add(j)\n",
    "print(len(set_palabras_clave),set_palabras_clave)"
   ]
  },
  {
   "cell_type": "code",
   "execution_count": 7,
   "id": "458b6d35",
   "metadata": {},
   "outputs": [],
   "source": [
    "etiquetas_clave = ['louis', 'taylor', 'switf', 'maneskin', 'harry', 'Harrychella ', 'niall', 'stray', 'kids', 'olivia',\n",
    "                   'rodrigo', 'madrid', 'barcelona', 'zayn', 'malik', 'justin', 'bieber', 'shawn', 'mendes', 'tour',\n",
    "                  'liam', 'payne', 'eurovision','tour Barcelona', 'tour Madrid', 'Tour 2022', 'tour 2023', '1d', 'one direction'\n",
    "                  ,'one', 'direction']\n",
    "etiquetas_clave = [cadena.lower() for cadena in etiquetas_clave]"
   ]
  },
  {
   "cell_type": "code",
   "execution_count": 8,
   "id": "ed109075",
   "metadata": {},
   "outputs": [],
   "source": [
    "df_filtrado = DATOS_generales[DATOS_generales['Palabras_clave'].apply(lambda lista: any(any(palabra.lower() in etiquetas_clave for palabra in cadena.split()) for cadena in lista))]"
   ]
  },
  {
   "cell_type": "code",
   "execution_count": 9,
   "id": "0204692a",
   "metadata": {},
   "outputs": [
    {
     "name": "stdout",
     "output_type": "stream",
     "text": [
      "<class 'pandas.core.frame.DataFrame'>\n",
      "Int64Index: 4689 entries, 0 to 6372\n",
      "Data columns (total 9 columns):\n",
      " #   Column           Non-Null Count  Dtype  \n",
      "---  ------           --------------  -----  \n",
      " 0   Sale Date        4689 non-null   object \n",
      " 1   Item Name        4689 non-null   object \n",
      " 2   Buyer            4101 non-null   object \n",
      " 3   Quantity         4689 non-null   int64  \n",
      " 4   Price            4689 non-null   float64\n",
      " 5   Discount Amount  4689 non-null   float64\n",
      " 6   Ship City        4689 non-null   object \n",
      " 7   Ship Country     4689 non-null   object \n",
      " 8   Palabras_clave   4689 non-null   object \n",
      "dtypes: float64(2), int64(1), object(6)\n",
      "memory usage: 366.3+ KB\n"
     ]
    }
   ],
   "source": [
    "df_filtrado.info()"
   ]
  },
  {
   "cell_type": "code",
   "execution_count": 10,
   "id": "a30c0cf1",
   "metadata": {},
   "outputs": [
    {
     "name": "stdout",
     "output_type": "stream",
     "text": [
      "El porcentaje representado por el filtro de palabras clave es de:  73.58757062146893\n"
     ]
    }
   ],
   "source": [
    "porc_representado = (4689/6372)*100\n",
    "print(\"El porcentaje representado por el filtro de palabras clave es de: \", porc_representado)"
   ]
  },
  {
   "cell_type": "code",
   "execution_count": 11,
   "id": "2e9f33f0",
   "metadata": {},
   "outputs": [
    {
     "name": "stderr",
     "output_type": "stream",
     "text": [
      "C:\\Users\\Carlosim\\AppData\\Local\\Temp\\ipykernel_6304\\3855776682.py:12: SettingWithCopyWarning: \n",
      "A value is trying to be set on a copy of a slice from a DataFrame.\n",
      "Try using .loc[row_indexer,col_indexer] = value instead\n",
      "\n",
      "See the caveats in the documentation: https://pandas.pydata.org/pandas-docs/stable/user_guide/indexing.html#returning-a-view-versus-a-copy\n",
      "  df_filtrado['Palabras_clave'] = df_filtrado['Palabras_clave'].apply(aplicar_filtro)\n"
     ]
    }
   ],
   "source": [
    "def aplicar_filtro(lista):\n",
    "    # Si la lista tiene una sola cadena, devolver esa cadena\n",
    "    if len(lista) == 1:\n",
    "        return lista[0]\n",
    "    else:\n",
    "        # Aplicar el filtro y devolver la cadena seleccionada\n",
    "        for cadena in lista:\n",
    "            if cadena.split(\" \")[0] in etiquetas_clave or cadena.split(\" \")[1] in etiquetas_clave or cadena in etiquetas_clave:  # Reemplaza 'filtro' con tu filtro específico\n",
    "                return cadena\n",
    "\n",
    "# Aplicar la función personalizada a cada fila de la columna 'Columna'\n",
    "df_filtrado['Palabras_clave'] = df_filtrado['Palabras_clave'].apply(aplicar_filtro)"
   ]
  },
  {
   "cell_type": "code",
   "execution_count": 12,
   "id": "b66afd75",
   "metadata": {},
   "outputs": [
    {
     "data": {
      "text/plain": [
       "array([None, 'liam merch', 'direction merch', 'harry styles',\n",
       "       'zayn merch', 'Zayn Malik', 'PACK zayn', 'direction Holographic',\n",
       "       'ganadores eurovision', 'taylor swift', 'eurovision 2021',\n",
       "       'FREE niall', 'louis tomlinson', 'maneskin acrylic',\n",
       "       'olivia rodrigo', 'taylor switf', 'niall horan', 'merch niall',\n",
       "       'tela Louis', 'summer harry', 'Pulsera Harry', 'shawn mendes',\n",
       "       'Collar harry', 'Justin bieber', 'tela harry', 'tour elastics',\n",
       "       'louis tommo', 'future louis', 'Maneskin cloth', 'love louis',\n",
       "       'Louis Tommo', 'eras tour', 'tour Madrid', 'tour Barcelona',\n",
       "       'tour 2023', '1989 taylor', 'stray kids'], dtype=object)"
      ]
     },
     "execution_count": 12,
     "metadata": {},
     "output_type": "execute_result"
    }
   ],
   "source": [
    "df_filtrado['Palabras_clave'].unique()"
   ]
  },
  {
   "cell_type": "code",
   "execution_count": 13,
   "id": "2a67d5e1",
   "metadata": {},
   "outputs": [
    {
     "name": "stdout",
     "output_type": "stream",
     "text": [
      "<class 'pandas.core.frame.DataFrame'>\n",
      "Int64Index: 4689 entries, 0 to 6372\n",
      "Data columns (total 9 columns):\n",
      " #   Column           Non-Null Count  Dtype  \n",
      "---  ------           --------------  -----  \n",
      " 0   Sale Date        4689 non-null   object \n",
      " 1   Item Name        4689 non-null   object \n",
      " 2   Buyer            4101 non-null   object \n",
      " 3   Quantity         4689 non-null   int64  \n",
      " 4   Price            4689 non-null   float64\n",
      " 5   Discount Amount  4689 non-null   float64\n",
      " 6   Ship City        4689 non-null   object \n",
      " 7   Ship Country     4689 non-null   object \n",
      " 8   Palabras_clave   3168 non-null   object \n",
      "dtypes: float64(2), int64(1), object(6)\n",
      "memory usage: 366.3+ KB\n"
     ]
    }
   ],
   "source": [
    "df_filtrado.info()"
   ]
  },
  {
   "cell_type": "code",
   "execution_count": 25,
   "id": "2d3c7fb8",
   "metadata": {},
   "outputs": [],
   "source": [
    "diccionario_etiquetas_mejor_mes = dict()"
   ]
  },
  {
   "cell_type": "code",
   "execution_count": 97,
   "id": "7b47b61d",
   "metadata": {},
   "outputs": [
    {
     "name": "stdout",
     "output_type": "stream",
     "text": [
      "Mes con más filas que cumplen el valor concreto de la columna 'Palabras_clave': (2023, 8)\n",
      "Número total de filas para ese mes y año: 2\n"
     ]
    },
    {
     "name": "stderr",
     "output_type": "stream",
     "text": [
      "C:\\Users\\Carlosim\\AppData\\Local\\Temp\\ipykernel_6304\\133281482.py:12: SettingWithCopyWarning: \n",
      "A value is trying to be set on a copy of a slice from a DataFrame.\n",
      "Try using .loc[row_indexer,col_indexer] = value instead\n",
      "\n",
      "See the caveats in the documentation: https://pandas.pydata.org/pandas-docs/stable/user_guide/indexing.html#returning-a-view-versus-a-copy\n",
      "  df_resultado['Sale Date'] = pd.to_datetime(df_resultado['Sale Date'])\n"
     ]
    }
   ],
   "source": [
    "#Prueba que devuelve el mes con mayores ventas\n",
    "etiqueta_clave = '1989 taylor'\n",
    "partes_etiqueta = etiqueta_clave.split()\n",
    "\n",
    "# Convertir las etiquetas de búsqueda a minúsculas\n",
    "etiqueta_clave = etiqueta_clave.lower()\n",
    "\n",
    "# Filtrar el DataFrame para las filas que contienen alguna de las partes de la etiqueta clave en minúsculas\n",
    "df_resultado = df_filtrado[(df_filtrado['Palabras_clave'].str.lower().str.contains(partes_etiqueta[0].lower()))\n",
    "                           | (df_filtrado['Palabras_clave'].str.lower().str.contains(partes_etiqueta[0].lower()))]\n",
    "\n",
    "# Convertir la columna 'Fecha' al formato datetime si aún no lo está\n",
    "df_resultado['Sale Date'] = pd.to_datetime(df_resultado['Sale Date'])\n",
    "\n",
    "# Agrupar por mes y año en la columna 'Fecha' y contar el número de filas en cada grupo\n",
    "conteo_por_mes_y_año = df_resultado.groupby([df_resultado['Sale Date'].dt.year, df_resultado['Sale Date'].dt.month]).size()\n",
    "\n",
    "# Seleccionar el mes con más filas\n",
    "mes_año_con_mas_filas = conteo_por_mes_y_año.idxmax()\n",
    "\n",
    "total_filas_mes_mas_fila = conteo_por_mes_y_año.max()\n",
    "diccionario_etiquetas_mejor_mes[etiqueta_clave] = (total_filas_mes_mas_fila, mes_año_con_mas_filas)\n",
    "# Imprimir el resultado\n",
    "print(\"Mes con más filas que cumplen el valor concreto de la columna 'Palabras_clave':\", mes_año_con_mas_filas)\n",
    "print(\"Número total de filas para ese mes y año:\", total_filas_mes_mas_fila)"
   ]
  },
  {
   "cell_type": "code",
   "execution_count": 98,
   "id": "51f154e9",
   "metadata": {},
   "outputs": [
    {
     "data": {
      "text/plain": [
       "{'harry styles': (314, (2023, 7)),\n",
       " 'zayn malik': (36, (2021, 4)),\n",
       " 'louis tomlinson': (27, (2022, 8)),\n",
       " 'taylor switf': (23, (2021, 9)),\n",
       " 'shawn mendes': (64, (2022, 7)),\n",
       " 'niall horan': (15, (2022, 12)),\n",
       " 'justin bieber': (1, (2022, 6)),\n",
       " 'eras tour': (66, (2023, 8)),\n",
       " '1989 taylor': (2, (2023, 8)),\n",
       " 'tour madrid': (5, (2023, 7)),\n",
       " 'tour barcelona': (8, (2023, 8)),\n",
       " 'stray kids': (1, (2023, 9)),\n",
       " 'tour 2023': (7, (2023, 8))}"
      ]
     },
     "execution_count": 98,
     "metadata": {},
     "output_type": "execute_result"
    }
   ],
   "source": [
    "diccionario_etiquetas_mejor_mes"
   ]
  },
  {
   "cell_type": "code",
   "execution_count": 60,
   "id": "da584009",
   "metadata": {},
   "outputs": [
    {
     "data": {
      "text/plain": [
       "{'harry styles': (314, (2023, 7)),\n",
       " 'eras tour': (66, (2023, 8)),\n",
       " 'shawn mendes': (64, (2022, 7)),\n",
       " 'zayn malik': (36, (2021, 4)),\n",
       " 'louis tomlinson': (27, (2022, 8)),\n",
       " 'taylor switf': (23, (2021, 9)),\n",
       " '1989 taylor': (23, (2021, 9)),\n",
       " 'niall horan': (15, (2022, 12)),\n",
       " 'tour barcelona': (8, (2023, 8)),\n",
       " 'tour 2023': (7, (2023, 8)),\n",
       " 'tour madrid': (5, (2023, 7)),\n",
       " 'stray kids': (1, (2023, 9)),\n",
       " 'justin bieber': (1, (2022, 6))}"
      ]
     },
     "execution_count": 60,
     "metadata": {},
     "output_type": "execute_result"
    }
   ],
   "source": [
    "diccionario_ordenado = dict(sorted(diccionario_etiquetas_mejor_mes.items(), key=lambda item: item[1], reverse=True))\n",
    "diccionario_ordenado"
   ]
  },
  {
   "cell_type": "code",
   "execution_count": 79,
   "id": "55b9dc9e",
   "metadata": {},
   "outputs": [],
   "source": [
    "diccionario_etiquetas_mejores_meses = dict()"
   ]
  },
  {
   "cell_type": "code",
   "execution_count": 109,
   "id": "2e03bc6f",
   "metadata": {},
   "outputs": [
    {
     "name": "stdout",
     "output_type": "stream",
     "text": [
      "Los meses con más filas que cumplen el valor concreto de la columna 'Palabras_clave': [(2022, 6)]\n",
      "Número total de filas para ese mes y año: [1]\n"
     ]
    },
    {
     "name": "stderr",
     "output_type": "stream",
     "text": [
      "C:\\Users\\Carlosim\\AppData\\Local\\Temp\\ipykernel_6304\\921496624.py:12: SettingWithCopyWarning: \n",
      "A value is trying to be set on a copy of a slice from a DataFrame.\n",
      "Try using .loc[row_indexer,col_indexer] = value instead\n",
      "\n",
      "See the caveats in the documentation: https://pandas.pydata.org/pandas-docs/stable/user_guide/indexing.html#returning-a-view-versus-a-copy\n",
      "  df_resultado['Sale Date'] = pd.to_datetime(df_resultado['Sale Date'])\n"
     ]
    }
   ],
   "source": [
    "#Prueba que devuelve los 3 meses con más ventas\n",
    "etiqueta_clave = 'justin bieber'\n",
    "partes_etiqueta = etiqueta_clave.split()\n",
    "\n",
    "# Convertir las etiquetas de búsqueda a minúsculas\n",
    "etiqueta_clave = etiqueta_clave.lower()\n",
    "\n",
    "# Filtrar el DataFrame para las filas que contienen alguna de las partes de la etiqueta clave en minúsculas\n",
    "df_resultado = df_filtrado[(df_filtrado['Palabras_clave'].str.lower().str.contains(partes_etiqueta[0].lower()))\n",
    "                           | (df_filtrado['Palabras_clave'].str.lower().str.contains(partes_etiqueta[1].lower()))]\n",
    "\n",
    "# Convertir la columna 'Fecha' al formato datetime si aún no lo está\n",
    "df_resultado['Sale Date'] = pd.to_datetime(df_resultado['Sale Date'])\n",
    "\n",
    "# Agrupar por mes y año en la columna 'Fecha' y contar el número de filas en cada grupo\n",
    "conteo_por_mes_y_año = df_resultado.groupby([df_resultado['Sale Date'].dt.year, df_resultado['Sale Date'].dt.month]).size()\n",
    "\n",
    "# Seleccionar el mes con más filas\n",
    "meses_año_con_mas_filas = conteo_por_mes_y_año.nlargest(3).index.tolist()\n",
    "total_filas_mes_mas_fila = conteo_por_mes_y_año.nlargest(3).tolist()\n",
    "resumen = list(zip(meses_año_con_mas_filas,total_filas_mes_mas_fila))\n",
    "\n",
    "diccionario_etiquetas_mejores_meses[etiqueta_clave] = resumen\n",
    "# Imprimir el resultado\n",
    "print(\"Los meses con más filas que cumplen el valor concreto de la columna 'Palabras_clave':\", meses_año_con_mas_filas)\n",
    "print(\"Número total de filas para ese mes y año:\", total_filas_mes_mas_fila)"
   ]
  },
  {
   "cell_type": "code",
   "execution_count": 110,
   "id": "e8db6521",
   "metadata": {},
   "outputs": [
    {
     "data": {
      "text/plain": [
       "{'harry styles': [((2023, 7), 314), ((2023, 8), 239), ((2022, 8), 162)],\n",
       " 'eras': [((2023, 8), 66), ((2023, 9), 47), ((2023, 7), 38)],\n",
       " 'shawn mendes': [((2022, 7), 64), ((2022, 5), 59), ((2022, 4), 39)],\n",
       " 'zayn malik': [((2021, 4), 36), ((2021, 3), 34), ((2021, 2), 12)],\n",
       " 'louis tomlinson': [((2022, 8), 27), ((2022, 11), 17), ((2022, 12), 15)],\n",
       " 'taylor switf': [((2021, 9), 23), ((2021, 8), 18), ((2021, 6), 10)],\n",
       " '1989 taylor': [((2023, 8), 2), ((2023, 9), 2)],\n",
       " 'niall horan': [((2022, 12), 15), ((2023, 2), 14), ((2023, 3), 12)],\n",
       " 'tour barcelona': [((2023, 8), 8), ((2023, 7), 6), ((2023, 9), 1)],\n",
       " 'tour 2023': [((2023, 8), 7), ((2023, 9), 2)],\n",
       " 'tour madrid': [((2023, 7), 5), ((2023, 8), 5)],\n",
       " 'stray kids': [((2023, 9), 1)],\n",
       " 'justin bieber': [((2022, 6), 1)]}"
      ]
     },
     "execution_count": 110,
     "metadata": {},
     "output_type": "execute_result"
    }
   ],
   "source": [
    "diccionario_etiquetas_mejores_meses"
   ]
  },
  {
   "cell_type": "code",
   "execution_count": 111,
   "id": "2019a25d",
   "metadata": {},
   "outputs": [
    {
     "name": "stdout",
     "output_type": "stream",
     "text": [
      "<class 'pandas.core.frame.DataFrame'>\n",
      "Int64Index: 4689 entries, 0 to 6372\n",
      "Data columns (total 9 columns):\n",
      " #   Column           Non-Null Count  Dtype  \n",
      "---  ------           --------------  -----  \n",
      " 0   Sale Date        4689 non-null   object \n",
      " 1   Item Name        4689 non-null   object \n",
      " 2   Buyer            4101 non-null   object \n",
      " 3   Quantity         4689 non-null   int64  \n",
      " 4   Price            4689 non-null   float64\n",
      " 5   Discount Amount  4689 non-null   float64\n",
      " 6   Ship City        4689 non-null   object \n",
      " 7   Ship Country     4689 non-null   object \n",
      " 8   Palabras_clave   3168 non-null   object \n",
      "dtypes: float64(2), int64(1), object(6)\n",
      "memory usage: 366.3+ KB\n"
     ]
    }
   ],
   "source": [
    "df_filtrado.info()"
   ]
  },
  {
   "cell_type": "code",
   "execution_count": null,
   "id": "2c18e775",
   "metadata": {},
   "outputs": [],
   "source": []
  }
 ],
 "metadata": {
  "kernelspec": {
   "display_name": "Python 3 (ipykernel)",
   "language": "python",
   "name": "python3"
  },
  "language_info": {
   "codemirror_mode": {
    "name": "ipython",
    "version": 3
   },
   "file_extension": ".py",
   "mimetype": "text/x-python",
   "name": "python",
   "nbconvert_exporter": "python",
   "pygments_lexer": "ipython3",
   "version": "3.10.9"
  }
 },
 "nbformat": 4,
 "nbformat_minor": 5
}
