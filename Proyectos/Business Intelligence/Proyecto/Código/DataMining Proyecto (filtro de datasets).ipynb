{
 "cells": [
  {
   "cell_type": "code",
   "execution_count": 5,
   "id": "f8cd3b5a",
   "metadata": {},
   "outputs": [
    {
     "name": "stdout",
     "output_type": "stream",
     "text": [
      "Requirement already satisfied: scikit-learn in c:\\users\\carlosim\\miniconda3\\lib\\site-packages (1.4.1.post1)\n",
      "Requirement already satisfied: joblib>=1.2.0 in c:\\users\\carlosim\\miniconda3\\lib\\site-packages (from scikit-learn) (1.3.2)\n",
      "Requirement already satisfied: scipy>=1.6.0 in c:\\users\\carlosim\\miniconda3\\lib\\site-packages (from scikit-learn) (1.11.3)\n",
      "Requirement already satisfied: numpy<2.0,>=1.19.5 in c:\\users\\carlosim\\miniconda3\\lib\\site-packages (from scikit-learn) (1.23.5)\n",
      "Requirement already satisfied: threadpoolctl>=2.0.0 in c:\\users\\carlosim\\miniconda3\\lib\\site-packages (from scikit-learn) (3.3.0)\n",
      "Requirement already satisfied: seaborn in c:\\users\\carlosim\\miniconda3\\lib\\site-packages (0.13.2)\n",
      "Requirement already satisfied: pandas>=1.2 in c:\\users\\carlosim\\miniconda3\\lib\\site-packages (from seaborn) (1.5.3)\n",
      "Requirement already satisfied: numpy!=1.24.0,>=1.20 in c:\\users\\carlosim\\miniconda3\\lib\\site-packages (from seaborn) (1.23.5)\n",
      "Requirement already satisfied: matplotlib!=3.6.1,>=3.4 in c:\\users\\carlosim\\miniconda3\\lib\\site-packages (from seaborn) (3.6.2)\n",
      "Requirement already satisfied: cycler>=0.10 in c:\\users\\carlosim\\miniconda3\\lib\\site-packages (from matplotlib!=3.6.1,>=3.4->seaborn) (0.11.0)\n",
      "Requirement already satisfied: kiwisolver>=1.0.1 in c:\\users\\carlosim\\miniconda3\\lib\\site-packages (from matplotlib!=3.6.1,>=3.4->seaborn) (1.4.4)\n",
      "Requirement already satisfied: python-dateutil>=2.7 in c:\\users\\carlosim\\miniconda3\\lib\\site-packages (from matplotlib!=3.6.1,>=3.4->seaborn) (2.8.2)\n",
      "Requirement already satisfied: pillow>=6.2.0 in c:\\users\\carlosim\\miniconda3\\lib\\site-packages (from matplotlib!=3.6.1,>=3.4->seaborn) (9.3.0)\n",
      "Requirement already satisfied: packaging>=20.0 in c:\\users\\carlosim\\miniconda3\\lib\\site-packages (from matplotlib!=3.6.1,>=3.4->seaborn) (22.0)\n",
      "Requirement already satisfied: fonttools>=4.22.0 in c:\\users\\carlosim\\miniconda3\\lib\\site-packages (from matplotlib!=3.6.1,>=3.4->seaborn) (4.25.0)\n",
      "Requirement already satisfied: pyparsing>=2.2.1 in c:\\users\\carlosim\\miniconda3\\lib\\site-packages (from matplotlib!=3.6.1,>=3.4->seaborn) (3.0.9)\n",
      "Requirement already satisfied: contourpy>=1.0.1 in c:\\users\\carlosim\\miniconda3\\lib\\site-packages (from matplotlib!=3.6.1,>=3.4->seaborn) (1.0.5)\n",
      "Requirement already satisfied: pytz>=2020.1 in c:\\users\\carlosim\\miniconda3\\lib\\site-packages (from pandas>=1.2->seaborn) (2022.7)\n",
      "Requirement already satisfied: six>=1.5 in c:\\users\\carlosim\\miniconda3\\lib\\site-packages (from python-dateutil>=2.7->matplotlib!=3.6.1,>=3.4->seaborn) (1.16.0)\n",
      "Requirement already satisfied: geopandas in c:\\users\\carlosim\\miniconda3\\lib\\site-packages (0.14.3)\n",
      "Requirement already satisfied: matplotlib in c:\\users\\carlosim\\miniconda3\\lib\\site-packages (3.6.2)\n",
      "Requirement already satisfied: pandas>=1.4.0 in c:\\users\\carlosim\\miniconda3\\lib\\site-packages (from geopandas) (1.5.3)\n",
      "Requirement already satisfied: packaging in c:\\users\\carlosim\\miniconda3\\lib\\site-packages (from geopandas) (22.0)\n",
      "Requirement already satisfied: shapely>=1.8.0 in c:\\users\\carlosim\\miniconda3\\lib\\site-packages (from geopandas) (2.0.3)\n",
      "Requirement already satisfied: fiona>=1.8.21 in c:\\users\\carlosim\\miniconda3\\lib\\site-packages (from geopandas) (1.9.5)\n",
      "Requirement already satisfied: pyproj>=3.3.0 in c:\\users\\carlosim\\miniconda3\\lib\\site-packages (from geopandas) (3.6.1)\n",
      "Requirement already satisfied: pyparsing>=2.2.1 in c:\\users\\carlosim\\miniconda3\\lib\\site-packages (from matplotlib) (3.0.9)\n",
      "Requirement already satisfied: contourpy>=1.0.1 in c:\\users\\carlosim\\miniconda3\\lib\\site-packages (from matplotlib) (1.0.5)\n",
      "Requirement already satisfied: numpy>=1.19 in c:\\users\\carlosim\\miniconda3\\lib\\site-packages (from matplotlib) (1.23.5)\n",
      "Requirement already satisfied: kiwisolver>=1.0.1 in c:\\users\\carlosim\\miniconda3\\lib\\site-packages (from matplotlib) (1.4.4)\n",
      "Requirement already satisfied: python-dateutil>=2.7 in c:\\users\\carlosim\\miniconda3\\lib\\site-packages (from matplotlib) (2.8.2)\n",
      "Requirement already satisfied: cycler>=0.10 in c:\\users\\carlosim\\miniconda3\\lib\\site-packages (from matplotlib) (0.11.0)\n",
      "Requirement already satisfied: pillow>=6.2.0 in c:\\users\\carlosim\\miniconda3\\lib\\site-packages (from matplotlib) (9.3.0)\n",
      "Requirement already satisfied: fonttools>=4.22.0 in c:\\users\\carlosim\\miniconda3\\lib\\site-packages (from matplotlib) (4.25.0)\n",
      "Requirement already satisfied: certifi in c:\\users\\carlosim\\miniconda3\\lib\\site-packages (from fiona>=1.8.21->geopandas) (2023.7.22)\n",
      "Requirement already satisfied: click-plugins>=1.0 in c:\\users\\carlosim\\miniconda3\\lib\\site-packages (from fiona>=1.8.21->geopandas) (1.1.1)\n",
      "Requirement already satisfied: cligj>=0.5 in c:\\users\\carlosim\\miniconda3\\lib\\site-packages (from fiona>=1.8.21->geopandas) (0.7.2)\n",
      "Requirement already satisfied: six in c:\\users\\carlosim\\miniconda3\\lib\\site-packages (from fiona>=1.8.21->geopandas) (1.16.0)\n",
      "Requirement already satisfied: setuptools in c:\\users\\carlosim\\miniconda3\\lib\\site-packages (from fiona>=1.8.21->geopandas) (65.6.3)\n",
      "Requirement already satisfied: attrs>=19.2.0 in c:\\users\\carlosim\\miniconda3\\lib\\site-packages (from fiona>=1.8.21->geopandas) (22.1.0)\n",
      "Requirement already satisfied: click~=8.0 in c:\\users\\carlosim\\miniconda3\\lib\\site-packages (from fiona>=1.8.21->geopandas) (8.1.7)\n",
      "Requirement already satisfied: pytz>=2020.1 in c:\\users\\carlosim\\miniconda3\\lib\\site-packages (from pandas>=1.4.0->geopandas) (2022.7)\n",
      "Requirement already satisfied: colorama in c:\\users\\carlosim\\miniconda3\\lib\\site-packages (from click~=8.0->fiona>=1.8.21->geopandas) (0.4.6)\n"
     ]
    }
   ],
   "source": [
    "%matplotlib inline\n",
    "!pip install scikit-learn\n",
    "!pip install seaborn\n",
    "!pip install geopandas matplotlib\n",
    "\n",
    "import numpy as np\n",
    "import pandas as pd\n",
    "import seaborn as sns\n",
    "import matplotlib.pyplot as plt\n",
    "import matplotlib.cm as cm\n",
    "from glob import glob\n",
    "import geopandas as gpd\n",
    "\n",
    "from scipy.spatial import distance_matrix\n",
    "from sklearn.preprocessing import MinMaxScaler\n",
    "\n",
    "# Para no mostrar 'Future Warnings' producto de que algunos paquetes aún\n",
    "# trabajan con versiones no actualizadas de otros paquetes\n",
    "import warnings\n",
    "warnings.simplefilter(action='ignore', category=FutureWarning)"
   ]
  },
  {
   "cell_type": "code",
   "execution_count": 6,
   "id": "a419a23c",
   "metadata": {},
   "outputs": [],
   "source": [
    "DATOS_generales = pd.read_csv('./datos_proyecto_general.csv')\n",
    "DATOS_productos = pd.read_csv('./datos_proyecto_productos.csv')"
   ]
  },
  {
   "cell_type": "code",
   "execution_count": 7,
   "id": "7a0e42e3",
   "metadata": {},
   "outputs": [
    {
     "name": "stdout",
     "output_type": "stream",
     "text": [
      "<class 'pandas.core.frame.DataFrame'>\n",
      "RangeIndex: 5075 entries, 0 to 5074\n",
      "Data columns (total 36 columns):\n",
      " #   Column                                            Non-Null Count  Dtype  \n",
      "---  ------                                            --------------  -----  \n",
      " 0   Fecha de venta                                    5075 non-null   object \n",
      " 1   N.º de pedido                                     5075 non-null   int64  \n",
      " 2   N.º de comprador                                  4390 non-null   object \n",
      " 3   Nombre completo                                   5075 non-null   object \n",
      " 4   Nombre                                            5075 non-null   object \n",
      " 5   Apellidos                                         4895 non-null   object \n",
      " 6   Cantidad de artículos                             5075 non-null   int64  \n",
      " 7   Forma de pago                                     5075 non-null   object \n",
      " 8   Fecha de envío                                    5075 non-null   object \n",
      " 9   Calle                                             5075 non-null   object \n",
      " 10  Calle 2                                           1626 non-null   object \n",
      " 11  Ciudad                                            5075 non-null   object \n",
      " 12  Estado                                            3346 non-null   object \n",
      " 13  Código postal                                     5054 non-null   object \n",
      " 14  País                                              5075 non-null   object \n",
      " 15  Divisa                                            5075 non-null   object \n",
      " 16  Importe del pedido                                5075 non-null   object \n",
      " 17  Código de descuento                               324 non-null    object \n",
      " 18  Información del cupón                             324 non-null    object \n",
      " 19  Cantidad de descuento                             5075 non-null   object \n",
      " 20  Descuento sobre los gastos de envío               5075 non-null   object \n",
      " 21  Envío                                             5075 non-null   object \n",
      " 22  Impuesto sobre las ventas                         5075 non-null   object \n",
      " 23  Total del pedido                                  5075 non-null   object \n",
      " 24  Estado.1                                          0 non-null      float64\n",
      " 25  Tarifas por procesamiento de la tarjeta           5075 non-null   float64\n",
      " 26  Pedido neto                                       5075 non-null   float64\n",
      " 27  Total ajustado del pedido                         5075 non-null   float64\n",
      " 28  Tarifas de procesamiento de la tarjeta ajustadas  5075 non-null   float64\n",
      " 29  Cantidad neta ajustada del pedido                 5075 non-null   float64\n",
      " 30  Comprador                                         5075 non-null   object \n",
      " 31  Tipo de pedido                                    5075 non-null   object \n",
      " 32  Tipo de pago                                      5075 non-null   object \n",
      " 33  Descuento en persona                              0 non-null      float64\n",
      " 34  Ubicación en persona                              0 non-null      float64\n",
      " 35  SKU                                               0 non-null      float64\n",
      "dtypes: float64(9), int64(2), object(25)\n",
      "memory usage: 1.4+ MB\n"
     ]
    }
   ],
   "source": [
    "DATOS_generales.info()"
   ]
  },
  {
   "cell_type": "code",
   "execution_count": 8,
   "id": "8e37d00e",
   "metadata": {},
   "outputs": [
    {
     "name": "stdout",
     "output_type": "stream",
     "text": [
      "<class 'pandas.core.frame.DataFrame'>\n",
      "RangeIndex: 6373 entries, 0 to 6372\n",
      "Data columns (total 33 columns):\n",
      " #   Column             Non-Null Count  Dtype  \n",
      "---  ------             --------------  -----  \n",
      " 0   Sale Date          6373 non-null   object \n",
      " 1   Item Name          6372 non-null   object \n",
      " 2   Buyer              5559 non-null   object \n",
      " 3   Quantity           6373 non-null   int64  \n",
      " 4   Price              6373 non-null   float64\n",
      " 5   Coupon Code        541 non-null    object \n",
      " 6   Coupon Details     541 non-null    object \n",
      " 7   Discount Amount    6373 non-null   float64\n",
      " 8   Shipping Discount  6373 non-null   float64\n",
      " 9   Order Shipping     6373 non-null   float64\n",
      " 10  Order Sales Tax    6373 non-null   float64\n",
      " 11  Item Total         6373 non-null   float64\n",
      " 12  Currency           6373 non-null   object \n",
      " 13  Transaction ID     6373 non-null   int64  \n",
      " 14  Listing ID         6373 non-null   int64  \n",
      " 15  Date Paid          6373 non-null   object \n",
      " 16  Date Shipped       6373 non-null   object \n",
      " 17  Ship Name          6373 non-null   object \n",
      " 18  Ship Address1      6373 non-null   object \n",
      " 19  Ship Address2      2158 non-null   object \n",
      " 20  Ship City          6373 non-null   object \n",
      " 21  Ship State         4304 non-null   object \n",
      " 22  Ship Zipcode       6352 non-null   object \n",
      " 23  Ship Country       6373 non-null   object \n",
      " 24  Order ID           6373 non-null   int64  \n",
      " 25  Variations         4347 non-null   object \n",
      " 26  Order Type         6373 non-null   object \n",
      " 27  Listings Type      6373 non-null   object \n",
      " 28  Payment Type       6373 non-null   object \n",
      " 29  InPerson Discount  0 non-null      float64\n",
      " 30  InPerson Location  0 non-null      float64\n",
      " 31  VAT Paid by Buyer  6373 non-null   int64  \n",
      " 32  SKU                0 non-null      float64\n",
      "dtypes: float64(9), int64(5), object(19)\n",
      "memory usage: 1.6+ MB\n"
     ]
    }
   ],
   "source": [
    "DATOS_productos.info()"
   ]
  },
  {
   "cell_type": "code",
   "execution_count": 9,
   "id": "20cb2128",
   "metadata": {},
   "outputs": [
    {
     "name": "stderr",
     "output_type": "stream",
     "text": [
      "C:\\Users\\Carlosim\\AppData\\Local\\Temp\\ipykernel_11580\\354603371.py:2: SettingWithCopyWarning: \n",
      "A value is trying to be set on a copy of a slice from a DataFrame.\n",
      "Try using .loc[row_indexer,col_indexer] = value instead\n",
      "\n",
      "See the caveats in the documentation: https://pandas.pydata.org/pandas-docs/stable/user_guide/indexing.html#returning-a-view-versus-a-copy\n",
      "  DATOS_generales_filtrada.loc[:, 'Fecha de venta'] = pd.to_datetime(DATOS_generales_filtrada['Fecha de venta'], format='%m/%d/%y')\n",
      "C:\\Users\\Carlosim\\AppData\\Local\\Temp\\ipykernel_11580\\354603371.py:2: DeprecationWarning: In a future version, `df.iloc[:, i] = newvals` will attempt to set the values inplace instead of always setting a new array. To retain the old behavior, use either `df[df.columns[i]] = newvals` or, if columns are non-unique, `df.isetitem(i, newvals)`\n",
      "  DATOS_generales_filtrada.loc[:, 'Fecha de venta'] = pd.to_datetime(DATOS_generales_filtrada['Fecha de venta'], format='%m/%d/%y')\n",
      "C:\\Users\\Carlosim\\AppData\\Local\\Temp\\ipykernel_11580\\354603371.py:3: SettingWithCopyWarning: \n",
      "A value is trying to be set on a copy of a slice from a DataFrame.\n",
      "Try using .loc[row_indexer,col_indexer] = value instead\n",
      "\n",
      "See the caveats in the documentation: https://pandas.pydata.org/pandas-docs/stable/user_guide/indexing.html#returning-a-view-versus-a-copy\n",
      "  DATOS_generales_filtrada.loc[:, 'Importe del pedido'] = DATOS_generales_filtrada['Importe del pedido'].str.replace(',', '.').astype(float)\n",
      "C:\\Users\\Carlosim\\AppData\\Local\\Temp\\ipykernel_11580\\354603371.py:3: DeprecationWarning: In a future version, `df.iloc[:, i] = newvals` will attempt to set the values inplace instead of always setting a new array. To retain the old behavior, use either `df[df.columns[i]] = newvals` or, if columns are non-unique, `df.isetitem(i, newvals)`\n",
      "  DATOS_generales_filtrada.loc[:, 'Importe del pedido'] = DATOS_generales_filtrada['Importe del pedido'].str.replace(',', '.').astype(float)\n",
      "C:\\Users\\Carlosim\\AppData\\Local\\Temp\\ipykernel_11580\\354603371.py:4: SettingWithCopyWarning: \n",
      "A value is trying to be set on a copy of a slice from a DataFrame.\n",
      "Try using .loc[row_indexer,col_indexer] = value instead\n",
      "\n",
      "See the caveats in the documentation: https://pandas.pydata.org/pandas-docs/stable/user_guide/indexing.html#returning-a-view-versus-a-copy\n",
      "  DATOS_generales_filtrada.loc[:, 'Cantidad de descuento'] = DATOS_generales_filtrada['Cantidad de descuento'].str.replace(',', '.').astype(float)\n",
      "C:\\Users\\Carlosim\\AppData\\Local\\Temp\\ipykernel_11580\\354603371.py:4: DeprecationWarning: In a future version, `df.iloc[:, i] = newvals` will attempt to set the values inplace instead of always setting a new array. To retain the old behavior, use either `df[df.columns[i]] = newvals` or, if columns are non-unique, `df.isetitem(i, newvals)`\n",
      "  DATOS_generales_filtrada.loc[:, 'Cantidad de descuento'] = DATOS_generales_filtrada['Cantidad de descuento'].str.replace(',', '.').astype(float)\n",
      "C:\\Users\\Carlosim\\AppData\\Local\\Temp\\ipykernel_11580\\354603371.py:5: SettingWithCopyWarning: \n",
      "A value is trying to be set on a copy of a slice from a DataFrame.\n",
      "Try using .loc[row_indexer,col_indexer] = value instead\n",
      "\n",
      "See the caveats in the documentation: https://pandas.pydata.org/pandas-docs/stable/user_guide/indexing.html#returning-a-view-versus-a-copy\n",
      "  DATOS_generales_filtrada.loc[:, 'Total del pedido'] = DATOS_generales_filtrada['Total del pedido'].str.replace(',', '.').astype(float)\n",
      "C:\\Users\\Carlosim\\AppData\\Local\\Temp\\ipykernel_11580\\354603371.py:5: DeprecationWarning: In a future version, `df.iloc[:, i] = newvals` will attempt to set the values inplace instead of always setting a new array. To retain the old behavior, use either `df[df.columns[i]] = newvals` or, if columns are non-unique, `df.isetitem(i, newvals)`\n",
      "  DATOS_generales_filtrada.loc[:, 'Total del pedido'] = DATOS_generales_filtrada['Total del pedido'].str.replace(',', '.').astype(float)\n"
     ]
    },
    {
     "data": {
      "text/plain": [
       "Fecha de venta           datetime64[ns]\n",
       "Nombre                           object\n",
       "Ciudad                           object\n",
       "País                             object\n",
       "Importe del pedido              float64\n",
       "Cantidad de descuento           float64\n",
       "Total del pedido                float64\n",
       "dtype: object"
      ]
     },
     "execution_count": 9,
     "metadata": {},
     "output_type": "execute_result"
    }
   ],
   "source": [
    "DATOS_generales_filtrada = DATOS_generales[['Fecha de venta','Nombre','Ciudad','País','Importe del pedido','Cantidad de descuento','Total del pedido']]\n",
    "DATOS_generales_filtrada.loc[:, 'Fecha de venta'] = pd.to_datetime(DATOS_generales_filtrada['Fecha de venta'], format='%m/%d/%y')\n",
    "DATOS_generales_filtrada.loc[:, 'Importe del pedido'] = DATOS_generales_filtrada['Importe del pedido'].str.replace(',', '.').astype(float)\n",
    "DATOS_generales_filtrada.loc[:, 'Cantidad de descuento'] = DATOS_generales_filtrada['Cantidad de descuento'].str.replace(',', '.').astype(float)\n",
    "DATOS_generales_filtrada.loc[:, 'Total del pedido'] = DATOS_generales_filtrada['Total del pedido'].str.replace(',', '.').astype(float)\n",
    "\n",
    "DATOS_generales_filtrada.dtypes"
   ]
  },
  {
   "cell_type": "code",
   "execution_count": 10,
   "id": "f57bac65",
   "metadata": {},
   "outputs": [
    {
     "name": "stderr",
     "output_type": "stream",
     "text": [
      "C:\\Users\\Carlosim\\AppData\\Local\\Temp\\ipykernel_11580\\1668998089.py:2: SettingWithCopyWarning: \n",
      "A value is trying to be set on a copy of a slice from a DataFrame.\n",
      "Try using .loc[row_indexer,col_indexer] = value instead\n",
      "\n",
      "See the caveats in the documentation: https://pandas.pydata.org/pandas-docs/stable/user_guide/indexing.html#returning-a-view-versus-a-copy\n",
      "  DATOS_productos_filtrada['Sale Date'] = pd.to_datetime(DATOS_productos_filtrada['Sale Date'], format='%m/%d/%y')\n"
     ]
    },
    {
     "data": {
      "text/plain": [
       "Sale Date          datetime64[ns]\n",
       "Item Name                  object\n",
       "Buyer                      object\n",
       "Quantity                    int64\n",
       "Price                     float64\n",
       "Discount Amount           float64\n",
       "Ship City                  object\n",
       "Ship Country               object\n",
       "dtype: object"
      ]
     },
     "execution_count": 10,
     "metadata": {},
     "output_type": "execute_result"
    }
   ],
   "source": [
    "DATOS_productos_filtrada = DATOS_productos[['Sale Date','Item Name','Buyer','Quantity','Price','Discount Amount','Ship City','Ship Country']]\n",
    "DATOS_productos_filtrada['Sale Date'] = pd.to_datetime(DATOS_productos_filtrada['Sale Date'], format='%m/%d/%y')\n",
    "DATOS_productos_filtrada.dtypes"
   ]
  },
  {
   "cell_type": "code",
   "execution_count": 11,
   "id": "d0671c24",
   "metadata": {},
   "outputs": [],
   "source": [
    "DATOS_generales_filtrada_ordenada = DATOS_generales_filtrada.sort_values(by='Fecha de venta').reset_index(drop=True)\n",
    "DATOS_productos_filtrada_ordenada = DATOS_productos_filtrada.sort_values(by='Sale Date').reset_index(drop=True)"
   ]
  },
  {
   "cell_type": "code",
   "execution_count": 12,
   "id": "4557ffaa",
   "metadata": {},
   "outputs": [
    {
     "data": {
      "text/plain": [
       "Fecha de venta           datetime64[ns]\n",
       "Nombre                           object\n",
       "Ciudad                           object\n",
       "País                             object\n",
       "Importe del pedido              float64\n",
       "Cantidad de descuento           float64\n",
       "Total del pedido                float64\n",
       "dtype: object"
      ]
     },
     "execution_count": 12,
     "metadata": {},
     "output_type": "execute_result"
    }
   ],
   "source": [
    "DATOS_generales_filtrada_ordenada.dtypes"
   ]
  },
  {
   "cell_type": "code",
   "execution_count": 13,
   "id": "c45419ba",
   "metadata": {},
   "outputs": [
    {
     "data": {
      "text/plain": [
       "Sale Date          datetime64[ns]\n",
       "Item Name                  object\n",
       "Buyer                      object\n",
       "Quantity                    int64\n",
       "Price                     float64\n",
       "Discount Amount           float64\n",
       "Ship City                  object\n",
       "Ship Country               object\n",
       "dtype: object"
      ]
     },
     "execution_count": 13,
     "metadata": {},
     "output_type": "execute_result"
    }
   ],
   "source": [
    "DATOS_productos_filtrada_ordenada.dtypes"
   ]
  },
  {
   "cell_type": "code",
   "execution_count": null,
   "id": "f5adb7a6",
   "metadata": {},
   "outputs": [],
   "source": []
  }
 ],
 "metadata": {
  "kernelspec": {
   "display_name": "Python 3 (ipykernel)",
   "language": "python",
   "name": "python3"
  },
  "language_info": {
   "codemirror_mode": {
    "name": "ipython",
    "version": 3
   },
   "file_extension": ".py",
   "mimetype": "text/x-python",
   "name": "python",
   "nbconvert_exporter": "python",
   "pygments_lexer": "ipython3",
   "version": "3.10.9"
  }
 },
 "nbformat": 4,
 "nbformat_minor": 5
}
